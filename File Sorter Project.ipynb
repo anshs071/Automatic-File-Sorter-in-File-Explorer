{
 "cells": [
  {
   "cell_type": "markdown",
   "id": "d00a8e68-7cb7-468e-9c6a-c7fce51a3952",
   "metadata": {},
   "source": [
    "# Automatic File Sorter in File Explorer"
   ]
  },
  {
   "cell_type": "code",
   "execution_count": null,
   "id": "f73f3e55-75d2-4870-8e9c-6bb599f27e34",
   "metadata": {},
   "outputs": [],
   "source": [
    "import os, shutil\n",
    "\n",
    "path = r\"Path/to/your/desired/folder/\"\n",
    "\n",
    "file_name = os.listdir(path)   #stores the names of all the files in the given path directory\n",
    "\n",
    "folder_names= ['excel files', 'image files', 'pdf files', 'word files', 'ppt files']  #folder names to store the files\n",
    "\n",
    "#check if the folder exists, if not then creating the folder\n",
    "for loop in range (0,5):                                      \n",
    "    if not os.path.exists(path + folder_names[loop]):\n",
    "        os.makedirs(path + folder_names[loop])\n",
    "\n",
    "#checking the extensions in the file names to identify the file type and then moving the correct file into its respective folder\n",
    "for file in file_name:\n",
    "    if (\".csv\" in file) or (\".xlsx\" in file) and not os.path.exists(path + \"excel files/\" + file):\n",
    "        shutil.move(path + file, path + \"excel files/\" + file)\n",
    "    elif \".jpg\" in file and not os.path.exists(path + \"image files/\" + file):\n",
    "        shutil.move(path + file, path + \"image files/\" + file)\n",
    "    elif \".pdf\" in file and not os.path.exists(path + \"pdf files/\" + file):\n",
    "        shutil.move(path + file, path + \"pdf files/\" + file)\n",
    "    elif \".docx\" in file and not os.path.exists(path + \"word files/\" + file):\n",
    "        shutil.move(path + file, path + \"word files/\" + file)\n",
    "    elif \".pptx\" in file and not os.path.exists(path + \"ppt files/\" + file):\n",
    "        shutil.move(path + file, path + \"ppt files/\" + file)\n",
    "\n",
    "#Remember to change the folder names, extensions and path according to your needs."
   ]
  }
 ],
 "metadata": {
  "kernelspec": {
   "display_name": "Python 3 (ipykernel)",
   "language": "python",
   "name": "python3"
  },
  "language_info": {
   "codemirror_mode": {
    "name": "ipython",
    "version": 3
   },
   "file_extension": ".py",
   "mimetype": "text/x-python",
   "name": "python",
   "nbconvert_exporter": "python",
   "pygments_lexer": "ipython3",
   "version": "3.12.2"
  }
 },
 "nbformat": 4,
 "nbformat_minor": 5
}
